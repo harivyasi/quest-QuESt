{
 "cells": [
  {
   "cell_type": "markdown",
   "metadata": {},
   "source": [
    "# H2O Molecule <br>\n",
    "\n",
    "In this tutorial, we will compute the ground state energy of H2O molecule and the double-dissociation of H atoms.\n",
    "First, we should understand the quantum physics problem we have. <br>\n",
    "Our task is to solve the non-relativistic Schrödinger equation. To simplify our problem, we consider the Born-Oppenheimer Approximation to separate the problem into nuclei and electronic Hamiltonian. In this approximation, the nuclei can be considered stationary particles. The resulting Hamiltonian to describe our ground state electronic problem is:\n",
    "\n",
    "\n",
    "\\begin{equation*}\n",
    "H_{elec} = -\\sum_{i} \\frac {\\nabla^2_{r_i}}{m_e}  - \\sum_{i,j} \\frac {Z_i}{\\lvert R_i-r_j\\rvert} + \\sum_{i,j>i} \\frac {Z_i Z_j}{\\lvert R_i-R_j \\rvert} + \\sum_{i,j>i} \\frac {1}{\\lvert r_i-r_j \\rvert} \n",
    "\\end{equation*}\n",
    "\n",
    "\n",
    "\n"
   ]
  },
  {
   "cell_type": "markdown",
   "metadata": {},
   "source": [
    "# Libraries"
   ]
  },
  {
   "cell_type": "code",
   "execution_count": null,
   "metadata": {},
   "outputs": [],
   "source": [
    "import sys\n",
    "import time\n",
    "from pyscf import gto, scf, mcscf, mp, cc, dft, ao2mo, lo, fci\n",
    "from pyscf.tools import molden, cubegen\n",
    "from pyscf.geomopt.geometric_solver import optimize\n",
    "import numpy as np\n",
    "from qiskit_nature.drivers import PySCFDriver, UnitsType, Molecule,  HFMethodType\n",
    "from qiskit_nature.problems.second_quantization.electronic import ElectronicStructureProblem\n",
    "from qiskit_nature.converters.second_quantization import QubitConverter\n",
    "from qiskit_nature.mappers.second_quantization import ParityMapper\n",
    "from qiskit_nature.transformers import ActiveSpaceTransformer, FreezeCoreTransformer\n",
    "from qiskit.algorithms import NumPyMinimumEigensolver\n",
    "from qiskit_nature.algorithms.ground_state_solvers import GroundStateEigensolver\n",
    "\n",
    "# qiskit\n",
    "from qiskit.utils import QuantumInstance\n",
    "from qiskit import Aer\n",
    "from qiskit.algorithms.minimum_eigen_solvers import NumPyMinimumEigensolver, VQE\n",
    "from qiskit.algorithms.optimizers import SLSQP\n",
    "from qiskit.circuit.library import ExcitationPreserving\n",
    "from qiskit import BasicAer\n",
    "from qiskit.algorithms import NumPyMinimumEigensolver, VQE\n",
    "from qiskit.algorithms.optimizers import SLSQP\n",
    "\n",
    "# qiskit nature imports\n",
    "from qiskit_nature.problems.second_quantization import ElectronicStructureProblem\n",
    "from qiskit_nature.converters.second_quantization import QubitConverter\n",
    "from qiskit_nature.mappers.second_quantization import JordanWignerMapper\n",
    "from qiskit_nature.algorithms import GroundStateEigensolver\n",
    "from qiskit_nature.drivers import PySCFDriver, UnitsType, Molecule\n",
    "from qiskit_nature.algorithms.pes_samplers import BOPESSampler, Extrapolator"
   ]
  },
  {
   "cell_type": "markdown",
   "metadata": {},
   "source": [
    "# Defining a PySCF molecule\n",
    "\n",
    "\n",
    "When using our graphical interface, you can upload directly an XYZ molecule file. \n",
    "\n",
    "For this tutorial we will be using PySCF code for our classical quantum chemistry calculations. You can use the function `my_pyscf_mol` to generate an molecule object class within PySCF. <br>\n",
    "\n",
    "<ul>\n",
    "<li>symmetry</li>\n",
    "<li>spin</li>\n",
    "<li>charge</li>\n",
    "<li>units</li>\n",
    "<li>basis</li>\n",
    "<li>output</li>\n",
    "</ul>\n",
    "\n",
    "\n",
    "\n"
   ]
  },
  {
   "cell_type": "markdown",
   "metadata": {},
   "source": [
    "<div class=\"alert alert-block alert-info\">\n",
    "<b>Tip:</b>Be aware that the number Molecular Orbitals (MOs) is determined by the basis set.\n",
    "    Basis sets have a long developing history and have a high variety. \n",
    "    We develop this problem with the simplest basis sets.\n",
    "</div>"
   ]
  },
  {
   "cell_type": "code",
   "execution_count": null,
   "metadata": {},
   "outputs": [],
   "source": [
    "#Function to define a molecule with the GTO class\n",
    "def my_pyscf_mol(xyz_file ,symmetry, spin, charge, units, basis, output):\n",
    "    my_molecule = gto.Mole()\n",
    "    my_molecule.fromfile(str(xyz_file))\n",
    "    my_molecule.symmetry = symmetry\n",
    "    my_molecule.spin = spin\n",
    "    my_molecule.charge = charge\n",
    "    my_molecule.unit = units\n",
    "    my_moleculeverbose = 5 \n",
    "    my_molecule.basis = basis\n",
    "    my_molecule.output = output\n",
    "    my_molecule.build()\n",
    "    return my_molecule"
   ]
  },
  {
   "cell_type": "code",
   "execution_count": null,
   "metadata": {},
   "outputs": [],
   "source": [
    "#Read previously optimized RHF Optimized structures\n",
    "opt_sto3g = my_pyscf_mol(xyz_file=\"opt_sto3g.xyz\", symmetry=True, spin=0 , charge=0, units='A', basis='sto3g',output='opt_sto3g.out')\n",
    "opt_631 = my_pyscf_mol(xyz_file=\"opt_631.xyz\", symmetry=True, spin=0 , charge=0, units='A', basis='6-31G',output='opt_6-31G.out')\n",
    "opt_ccpvdz = my_pyscf_mol(xyz_file=\"opt_ccpvdz.xyz\", symmetry=True, spin=0 , charge=0, units='A', basis='ccpvdz',output='opt_ccpvdz.out')"
   ]
  },
  {
   "cell_type": "code",
   "execution_count": null,
   "metadata": {},
   "outputs": [],
   "source": [
    "#You can now have a RHF calculation\n",
    "\n",
    "#STO3G\n",
    "mf_opt_sto3g = scf.RHF(opt_sto3g)\n",
    "mf_opt_sto3g.kernel()\n",
    "\n",
    "#631G\n",
    "mf_opt_631 = scf.RHF(opt_631)\n",
    "mf_opt_631.kernel()\n",
    "#ccpvdz\n",
    "mf_opt_ccpvdz = scf.RHF(opt_ccpvdz)\n",
    "mf_opt_ccpvdz.kernel()"
   ]
  },
  {
   "cell_type": "markdown",
   "metadata": {},
   "source": [
    "# Understand the HF problem Classically\n",
    "\n",
    "Lets generate the MOs diagram of the problem of interest\n",
    "\n",
    "<div class=\"alert alert-block alert-info\">\n",
    "<b>Tip:</b> Different Basis will get you different MO numbers\n",
    "</div> \n",
    "\n",
    "-With STO-3G you get 7 Orbitals for H2O, 5 Occupied and 2 Unoccupied\n",
    "-This part is important to undertand for later in the Active and Inactive space definition.\n"
   ]
  },
  {
   "cell_type": "markdown",
   "metadata": {},
   "source": [
    "<div class=\"alert alert-block alert-info\">\n",
    "<b>Tip:</b> You can change the variales low_lim and top_lim to set different limits\n",
    "</div> "
   ]
  },
  {
   "cell_type": "code",
   "execution_count": null,
   "metadata": {},
   "outputs": [],
   "source": [
    "import numpy as np\n",
    "import matplotlib.pyplot as plt\n",
    "from matplotlib.lines import Line2D\n",
    "\n",
    "#Energies and occupation \n",
    "Energies = mf_opt_sto3g.mo_energy # Energies\n",
    "Occupation = mf_opt_sto3g.mo_occ/2 # Number of occupied orbitals\n",
    "Orbital_number = int(len(Occupation)) # Number of orbitals within the basis set used\n",
    "\n",
    "x = np.zeros(len(Energies))\n",
    "#Get to arrays with occupied and unoccupied MO\n",
    "counter=np.sum(Occupation)  \n",
    "occ_mo = Energies[0:int(counter)] # Occupied MOs array\n",
    "x_occ = np.zeros(len(occ_mo))\n",
    "unocc_mo = Energies[int(counter):len(Energies)] # Unccupied MOs array\n",
    "x_unocc = np.zeros(len(unocc_mo))\n",
    "\n",
    "mo_numbers = np.arange(len(Energies)) + 1\n",
    "\n",
    "#Separate the MOs energies in x-axis\n",
    "x_new = np.zeros(len(Energies))\n",
    "i = 0\n",
    "while i < len(Energies)-1:\n",
    "    temp = Energies[i]-Energies[i+1]\n",
    "    temp = np.abs(temp)\n",
    "    if temp > 0.2:\n",
    "        x_new[i] = 0\n",
    "        i = i + 1\n",
    "    elif temp < 0.2:\n",
    "        x_new[i] = -0.04\n",
    "        x_new[i+1] = 0.04\n",
    "        i = i+2\n",
    "\n",
    "x_occ = x_new[0:int(counter)]\n",
    "x_unocc = x_new[int(counter):len(Energies)]\n",
    "#Plotting occupied and unoccupied in red and blue\n",
    "plt.figure(figsize=(6,8))\n",
    "plt.scatter(x_occ, occ_mo, c='dodgerblue', s=1444, marker=\"_\", linewidth=2, zorder=3)\n",
    "plt.scatter(x_unocc, unocc_mo, c='crimson', s=1444, marker=\"_\", linewidth=2, zorder=3)\n",
    "\n",
    "#Define limits of visualization\n",
    "low_lim = int(counter)-2 # HOMO-2\n",
    "top_lim = int(counter)+2 # LUMO+2\n",
    "\n",
    "if top_lim > Orbital_number:\n",
    "    top_lim = Orbital_number\n",
    "\n",
    "if low_lim < 0:\n",
    "    low_lim = 0\n",
    "\n",
    "#Put the index of a range HOMO-2 and LUMO+2 (This can be an option)\n",
    "for i in np.arange(low_lim,top_lim+1):\n",
    "    index =int(i-1)\n",
    "    text = str(i)\n",
    "    plt.annotate(text, xy=(x_new[index],Energies[index]),xytext=(x_new[index]-0.015,Energies[index]) ,xycoords='data' )\n",
    "\n",
    "\n",
    "plt.ylabel('Energy [a.u]',fontsize=12) \n",
    "plt.xlabel('MO',fontsize=15)\n",
    "legend_elements = [Line2D([0], [0], color='dodgerblue',lw=3.5, label='Occu.'), Line2D([0], [0], color='crimson',lw=3.5, label='Unoccup'),]\n",
    "plt.legend(handles=legend_elements,loc='upper right', fontsize=12 ,prop={'size': 10} , ncol=1, fancybox=True)\n",
    "#Put the limits in y- HOMO-3 and LUMO+4 (This can be an option)\n",
    "plt.ylim(Energies[low_lim-1],Energies[top_lim-1]+0.1) \n",
    "plt.xlim(-0.1,0.1) \n",
    "plt.xticks([])"
   ]
  },
  {
   "cell_type": "markdown",
   "metadata": {},
   "source": [
    "# Visualization of the Molecular Orbitals\n",
    "\n",
    "To understand the electronic problem and the different MOs of interest. You can generate the isosurface representation of the wavefunction of the MOs.\n",
    "You can have an interactive visualization.\n",
    "\n",
    "<div class=\"alert alert-block alert-info\">\n",
    "<b>Tip:</b> Please install the py3Dmol in your local computer\n",
    "</div>\n",
    "\n"
   ]
  },
  {
   "cell_type": "code",
   "execution_count": null,
   "metadata": {},
   "outputs": [],
   "source": [
    "#Function to read XYZ files\n",
    "def readXYZ(file):\n",
    "    f = open(file, \"r\")\n",
    "    lines = f.readlines()\n",
    "    filelength = len(lines)\n",
    "    progress = 0\n",
    "    geomcount = 0\n",
    "    geom = []\n",
    "    while progress < filelength:\n",
    "        tmpgeom = \"\"\n",
    "        length = int(lines[progress])+2\n",
    "        rangestart = progress\n",
    "        rangeend = progress + length\n",
    "        for i in range(rangestart, rangeend):\n",
    "            tmpgeom = tmpgeom + lines[i]\n",
    "        geom = geom + [tmpgeom]\n",
    "        geomcount = geomcount + 1\n",
    "        progress = progress + length\n",
    "    f.close()\n",
    "    return(''.join((geom)))"
   ]
  },
  {
   "cell_type": "code",
   "execution_count": null,
   "metadata": {},
   "outputs": [],
   "source": [
    "#Interactive selection of the functional of Interest\n",
    "from __future__ import print_function\n",
    "import py3Dmol\n",
    "from ipywidgets import interact, interactive, fixed, interact_manual\n",
    "import ipywidgets as widgets"
   ]
  },
  {
   "cell_type": "code",
   "execution_count": null,
   "metadata": {},
   "outputs": [],
   "source": [
    "def f(x):\n",
    "    index_i = int(x)-1\n",
    "    cubegen.orbital(opt_ccpvdz, 'temp.cube', mf_opt_ccpvdz.mo_coeff[:,index_i])\n",
    "    orbital_mol = open(\"temp.cube\", \"r\").read()\n",
    "    v = py3Dmol.view()\n",
    "    v.addVolumetricData(orbital_mol, \"cube\", {'isoval': -0.04, 'color': \"red\", 'opacity': 0.75})\n",
    "    v.addVolumetricData(orbital_mol, \"cube\", {'isoval': 0.04, 'color': \"blue\", 'opacity': 0.75})\n",
    "    geom = readXYZ(\"opt_ccpvdz.xyz\")\n",
    "    v.setStyle({'stick':{}})\n",
    "    v.zoomTo()\n",
    "    v.addModel(geom,\"xyz\")\n",
    "    v.setStyle({'stick':{}})\n",
    "    v.show()"
   ]
  },
  {
   "cell_type": "markdown",
   "metadata": {},
   "source": [
    "# MOs Isosurfaces visualization"
   ]
  },
  {
   "cell_type": "code",
   "execution_count": null,
   "metadata": {},
   "outputs": [],
   "source": [
    "#You can remove the comment and visualize the different MOs Isosurface \n",
    "#interact(f, x=mo_numbers);"
   ]
  },
  {
   "cell_type": "markdown",
   "metadata": {},
   "source": [
    "# HF Embedding \n",
    "\n",
    "\n",
    "The current use of quantum computing for computational chemistry studies is limited to a few atom molecules. Any organic molecule can easily have more than 10 atoms, meaning a high number of electrons and MOs depending on the basis set used. To overcome this, we can simplify our problem by having an active space description of the problem. Think of it as a CASSCF formalism where you define your orbitals of interest. In this tutorial, we will use the HF embedding formalism proposed by  __[Rossmannek et al](https://aip.scitation.org/doi/10.1063/5.0029536)__ .  \n",
    "\n",
    "In a nutshell, this method proposes to split the electronic problem into inactive and active space. Where the active space is a selected number of electrons and molecular orbitals to be computed in the quantum computer. The inactive space contribution can be treated with classical quantum chemistry algorithms. The final Hamiltonian incorporates a mean-field potential from the inactive space. of the problem, willThe advantage is to reduce the number of qubits needed for an electronic problem and also to open the door to bigger molecules for quantum computing studies.\n",
    "\n",
    "<img src=\"embedding.png\" width=600 />"
   ]
  },
  {
   "cell_type": "markdown",
   "metadata": {},
   "source": [
    "# Qiskit Nature and PySCF driver\n",
    "\n",
    "In this tutorial, we will use the Qiskit Nature implementation of the HF embedding. The classical quantum chemistry code use for the inactive space is PySCF. <br>\n",
    "\n",
    "The class `Molecule` defines __QMolecule__ which is Qiskit definition of the molecule.<br>\n",
    "The driver `PySCFDriver` translates the information of the Qmolecule object from the PySCF library.<br> \n",
    "The hf_method parameter defines the if the restricted (RHF), unrestircted (UHF) or restricted-open (ROHF) configurations are used <br>\n",
    "Finally, by running the driver we get the new Qmolecule object for Qiskit Nature. \n",
    "\n"
   ]
  },
  {
   "cell_type": "code",
   "execution_count": null,
   "metadata": {},
   "outputs": [],
   "source": [
    "\n",
    "#using the class Molecule (From Qiskit Nature) we can make an object for PySCFDriver\n",
    "#opt_sto3g is the GTO objectr from PySCF , in this case the optimized structure\n",
    "molecule = Molecule(geometry=opt_sto3g.atom,charge=0, multiplicity=1)\n",
    "\n",
    "#We call the PySCFDriver and we provided our define molecule object (molecule)\n",
    "#Within the driver we define the units (ANGSTROM), basis using the GTO PySCF driver and hf_method RHF UHF or ROHF\n",
    "driver = PySCFDriver(molecule=molecule, unit=UnitsType.ANGSTROM, basis=opt_sto3g.basis, hf_method=HFMethodType.RHF)\n",
    "\n",
    "\n",
    "# #Running PySCF it prints convergence True or False (Important), Total Energy , Electronic dipole and Total dipole\n",
    "#run PySCF with the use of the PySCFDriver and what we will know as quantum molecule \n",
    "q_molecule = driver.run()"
   ]
  },
  {
   "cell_type": "markdown",
   "metadata": {},
   "source": [
    "# Quantum-Active-Space\n",
    "\n",
    "Taking into account our first calculation within PySCF and the MOs diagram we can select our active space of interest.<br>\n",
    "q_molecule represent our molecule represented within the basis set selected and the level of theory (RHF) <br>\n",
    "The idea in this step is to define the number of electrons and orbitals to be assumed as active.\n",
    "These active orbitals (and electrons) will be the ones that we will simulate with qubits instead of a classical computer.\n",
    "\n",
    "In this tutorial we will define an active space of 2 electron and 3 orbitals (2,3)\n",
    "\n",
    "\n",
    "- Active space 2 electrons 3 orbitals <br>\n",
    "<img src=\"diagramEx.png\" width=140 />\n",
    "\n",
    "H2O molecule with the STO-3G basis set has 7 MO orbitals, where 5 are occupied. <br>\n",
    "\n",
    "This means that HOMO electrons are considered , and the MO orbitals are HOMO , LUMO and LUMO+1 <br>\n",
    "In this example because of using STO-3G it means to consider ALL unoccupied MOs.\n",
    "\n",
    "By calling the function `ActiveSpaceTransformer` you can customize your quantum active space.\n",
    "\n",
    "* `num_electrons`= (n)  \n",
    "     - The number of active electrons. If this is a tuple, it represents the number of alpha and beta electrons.\n",
    "* `num_molecular_orbitals`(n)\n",
    "    - The number of active orbitals\n",
    "* `active_orbitals`=[int,] * list\n",
    "    - A list of indices specifying the molecular orbitals of the active space"
   ]
  },
  {
   "cell_type": "code",
   "execution_count": null,
   "metadata": {},
   "outputs": [],
   "source": [
    "#Based on the number of MO within the basis define the occupied and unoccupied virtuals \n",
    "\n",
    "#ActiveSpaceTransformer will be use to selected the active space from the q_molecule MO representation\n",
    "\n",
    "#You can define as (2,3) (#electrons, #orbitals) \n",
    "#The selection of the MO is around the HOMO\n",
    "active_space_trafo_2_3 = ActiveSpaceTransformer(num_electrons=2,num_molecular_orbitals=3)\n",
    "\n",
    "#Another option is to specificalle define the index of the MO orbitals\n",
    "#active_space_trafo_2_3 = ActiveSpaceTransformer(num_electrons=2,num_molecular_orbitals=3,active_orbitals=[4,5,6])\n",
    "\n",
    "#Example (4,4) , Active Space HOMO-1, HOMO, LUMO and LUMO+1 (4,5,6,7 from the MO Energy diagram displayed above)\n",
    "#active_space_trafo_4_4 = ActiveSpaceTransformer(num_electrons=2,num_molecular_orbitals=4)\n",
    "\n",
    "\n",
    "\n",
    "#Defining the electronic structure problem \n",
    "# We provide our PySCFDriver object and the active space (q_molecule_transformers)\n",
    "es_problem = ElectronicStructureProblem(driver, q_molecule_transformers=[active_space_trafo_2_3])\n",
    "\n",
    "# If we want to consider all the MOs for the qubit simulation, we do not use q_molecule_transformes\n",
    "# es_problem = ElectronicStructureProblem(driver)\n",
    "\n"
   ]
  },
  {
   "cell_type": "markdown",
   "metadata": {},
   "source": [
    "# Defining a Second Quantized Hamiltonian \n",
    "\n",
    "The way we described above the electronic hamiltonian was in the first-quantization formalism. This formalism assumes an infinite-dimensional Hilbert space. In Classical quantum chemistry applications, we use a finite set of basis set as an approximation. Second quantization formalism is a recursive way to represent this problem. In second-quantization formalism, the Hamiltonian can be represented using fermionic creation and annihilation operators.\n",
    "\n",
    "\n",
    "\\begin{equation*}\n",
    "H = \\sum_{pq} h_{pq} a^{\\dagger}_p a_{q} + h_{pqrs} a^{\\dagger}_p a^{\\dagger}_q  a_{r} a_{s}\n",
    "\\end{equation*}\n",
    "\n",
    "Where $a_p$ is an electron annihilation operator that removes an electron from an orbital with a label p. $h_{pq}$ $h_{pqrs}$ are the one and two electron integrals, espectively. <br> \n",
    "To prepare our quantum computation we can use pre-computed integrals (from PySCF in this example) <br>\n",
    "\n",
    "For this we can use our electronic structure problem and call the function to compute the second-quantization operators. The one of our interest is the Hamiltonian. <br>\n",
    "\n",
    "In order to learn more about how is the second quantization formed in the qubit formalism, take a look in the class `.second_q_ops()` if the `ElectronisStructureProblem` function. \n",
    "\n",
    "The indexes of `.second_q_ops()[n]` are for n:\n",
    "* Electronic Structure operator a.k.a. “Hamiltonian” or 𝐻\n",
    "* Total Magnetization operator\n",
    "* Total Angular Momentum operator\n",
    "* Total Particle Number operator\n",
    "* x Dipole operator\n",
    "* y Dipole operator\n",
    "* z Dipole operator\n",
    "\n",
    " \n"
   ]
  },
  {
   "cell_type": "code",
   "execution_count": null,
   "metadata": {},
   "outputs": [],
   "source": [
    "# Generate the second-quantized operators\n",
    "second_q_ops = es_problem.second_q_ops()\n",
    "        #Returns:\n",
    "            #A list of `SecondQuantizedOp` in the following order: Hamiltonian operator,\n",
    "            #total particle number operator, total angular momentum operator, total magnetization\n",
    "            #operator, and (if available) x, y, z dipole operators.\n",
    "        #\"\"\"\n",
    "main_op = second_q_ops[0]"
   ]
  },
  {
   "cell_type": "markdown",
   "metadata": {},
   "source": [
    "# Mapping the electronic structure\n",
    "\n",
    "Once we the second-quantization representation, we must translate this Hamiltonian into a Quantum computing circuit. To simulate our MOs in a quantum computer. <br>\n",
    "This can be achieved by mapping the second quantization representation (creation and annihilation operators) into a set of operators on qubits. This mapping must converse the properties of the Hamiltonian such as the fermionic canonical commutation relations. <br>\n",
    "\n",
    "\n",
    "All known elementary and composite particles are bosons or fermions, depending on their spin: Particles with half-integer spin are fermions; particles with integer spin are bosons. In Quantum computing there are different algorithms to \"mapped\" this second quantize representation into qubits depending if the problems are Fermions or Bosons, since we are working with electrons (Fermions) we will use a selected group of Mapping algorithms for Fermion problems.<br>\n",
    "\n",
    "Two known algorithms are the Jordan-Wigner and Bravy-Kitaev Mappers \n",
    "\n",
    "<img src=\"Mappers.png\" width=600 />\n",
    "\n",
    "For this tutorial we will use the Bravy-Kitaev Mappers since is know to lead to less qubits than Jordan-Wigner\n",
    "\n",
    "The `QubitConverter` is called to define the translate of your second quantization operators using the defined mapping. \n",
    "* `Mapper`:\n",
    "    - We strongly suggest to stick with 'JordanWignerMapper' or with 'BravyiKitaevMapper' which are praised in the literature as the most relevant for quantum chemical simulation.\n",
    "* `two_qubit_reduction`:\n",
    "    - Is it s popular technique which uses ***** techniques to substract two or three qubits from the calculations\n",
    "* `z2symmetry_reduction`:\n",
    "    - Can be set into 'auto' which will automaticall look for symmetries, this technique can be also customized, but the correct symmetries need to be added. \n"
   ]
  },
  {
   "cell_type": "code",
   "execution_count": null,
   "metadata": {},
   "outputs": [],
   "source": [
    "from qiskit_nature.mappers.second_quantization import ParityMapper, BravyiKitaevMapper, JordanWignerMapper, FermionicMapper\n",
    "from qiskit_nature.converters.second_quantization.qubit_converter import QubitConverter\n",
    "\n",
    "# Setup the mapper and qubit converter\n",
    "#For the choices we should have 3 ParityMapper, JordanWignerMapper and FermionicMapping\n",
    "mapper_type = 'BravyiKitaevMapper'\n",
    "\n",
    "\n",
    "if mapper_type == 'JordanWignerMapper':\n",
    "    mapper = JordanWignerMapper()\n",
    "elif mapper_type == 'BravyiKitaevMapper':\n",
    "    mapper = BravyiKitaevMapper()\n",
    "\n",
    "converter = QubitConverter(mapper=mapper, two_qubit_reduction=False )#, z2symmetry_reduction='auto' or 'none')\n",
    "\n",
    "# The fermionic operators are mapped to qubit operators\n",
    "num_particles = (es_problem.molecule_data_transformed.num_alpha,\n",
    "             es_problem.molecule_data_transformed.num_beta)\n",
    "qubit_op = converter.convert(main_op, num_particles=num_particles)"
   ]
  },
  {
   "cell_type": "markdown",
   "metadata": {},
   "source": [
    "# Describing an Initial State\n",
    "For our simulations, we will define an initial state for the mapped problem. \n",
    "Since we are simulating a electronic problem. We know that the best initial guess is to have all electrons occupying the lowest orbitals (Hund's rule).<br>\n",
    "\n",
    "In this section, since we will give the initial state using the class `HartreeFock` \n",
    "- Electrons should occupy the lowest orbitals."
   ]
  },
  {
   "cell_type": "code",
   "execution_count": null,
   "metadata": {},
   "outputs": [],
   "source": [
    "from qiskit_nature.circuit.library import HartreeFock\n",
    "\n",
    "num_particles = (es_problem.molecule_data_transformed.num_alpha,\n",
    "             es_problem.molecule_data_transformed.num_beta)\n",
    "num_spin_orbitals = 2 * es_problem.molecule_data_transformed.num_molecular_orbitals\n",
    "init_state = HartreeFock(num_spin_orbitals, num_particles, converter)\n",
    "print(init_state)"
   ]
  },
  {
   "cell_type": "markdown",
   "metadata": {},
   "source": [
    "# VQE and Ansatz\n",
    "\n",
    "VQE is a hybrid classical-quantum algorithm that is capable to estimate molecular properties such as ground state energies in quantum systems using the variational principle. In this case the wavefunction anzats preparation and energy estimation are both implemed in the quantum cumputer. <br>\n",
    "\n",
    "VQE algorithm follows these general steps:\n",
    "\n",
    "    1. prepare the parametrized trial quantum state on the quantum computer \n",
    "    2. estimate the expectation value of energy using measurements of terms in the Hamiltonian,\n",
    "    3. update the parameter(s) of the quantum state using a classical optimization routine, and\n",
    "    4. repeat the previous steps until convergence criteria (e.g., in energy and/or iteration number) are satisfied.\n",
    "\n",
    "Classical quantum chemistry calculations use coupled-cluster methods for the solution of electronic structure problems due to their accuracy. The ansatz for the traditional coupled-cluster method is to use the HF reference wavefunction and apply excitations operators. Generally, the operation of the excitation is truncated to lower excitations like single and double excitations. <br>\n",
    "Since this ansatz can be interpreted as fermionic operators this one can be also mapped and used in quantum computers. This ansatz can be readily implemented by mapping fermionic excitation operators to qubit operators and applying the Trotter−Suzuki decomposition to the cluster operator. In this tutorial, we will use the unitary coupled-cluster ansatz truncated up to single and double excitations (UCCSD) for our VQE algorithm."
   ]
  },
  {
   "cell_type": "code",
   "execution_count": null,
   "metadata": {
    "tags": [
     "outputPrepend"
    ]
   },
   "outputs": [],
   "source": [
    "from qiskit.circuit.library import TwoLocal\n",
    "from qiskit_nature.circuit.library import UCCSD, PUCCD, SUCCD\n",
    "\n",
    "\n",
    "\n",
    "# Parameters for q-UCC antatze\n",
    "num_particles = (es_problem.molecule_data_transformed.num_alpha,\n",
    "             es_problem.molecule_data_transformed.num_beta)\n",
    "num_spin_orbitals = 2 * es_problem.molecule_data_transformed.num_molecular_orbitals\n",
    "\n",
    "ansatz = UCCSD(converter,num_particles,num_spin_orbitals,initial_state = init_state)\n",
    "\n",
    "\n",
    "\n",
    "print(ansatz)"
   ]
  },
  {
   "cell_type": "markdown",
   "metadata": {},
   "source": [
    "# Backend\n",
    "\n",
    "The backend: this is the quantum machine on which the right part of the figure above will be performed. <br>\n",
    "\n",
    "Now that you have $\\psi(\\vec\\theta)$ and $\\hat{H}$ in the translated is time to chose the solvers. <br>\n",
    "As as well as the possible services that you have in the IBMQ experience service. <br>\n",
    "\n",
    "Nunerical solutions can be obtained localy using two solvers `NumPyMinimumEigensolver()` or numerical VQE using `QasmSimulatorPy()` as a backend\n",
    "\n",
    "First of all you need to get an _[account](https://quantum-computing.ibm.com)_ at IBMQ experience andn get access to the service and a complete spectrum if rescources to start working with real quantun computers. <rb>\n",
    "\n",
    "Once you have access to your API Token you can copy it in credentials('API_token'). <br>\n",
    "Now you need to look at your allowed providers by instanting its class. <br>\n",
    "This will later allow access to the backends, where the job will take place. <br>\n",
    "The list is divided in two main sections:\n",
    "* Simulators\n",
    "    - Numerical simulators of several qubits and with specifil representations \n",
    "    - Specific to problems\n",
    "    - Easier access\n",
    "* Systems\n",
    "    _ Limited number of qubits (max 15)\n",
    "    - Experimental error analysis\n",
    "    - Eror correction implementaton algoritms\n",
    "    - Longer queue <br>\n",
    "\n",
    " Here we ask for the perfect quantum emulator"
   ]
  },
  {
   "cell_type": "code",
   "execution_count": null,
   "metadata": {},
   "outputs": [],
   "source": [
    "from qiskit import Aer\n",
    "\n",
    "backend = Aer.get_backend('statevector_simulator')\n"
   ]
  },
  {
   "cell_type": "markdown",
   "metadata": {},
   "source": [
    "# Optimizer\n",
    "\n",
    "Here we can define the optimizer for the VQE algorithm.\n",
    "In the case of optimizers, long can be discussed about the behavior of each parameters. <br> \n",
    "For most of them the origina documentation is easily accessible.<br>\n",
    "* _['L_BFGS_B'](https://docs.scipy.org/doc/scipy/reference/generated/scipy.optimize.fmin_l_bfgs_b.html)_\n",
    "* _[COBYLA](https://docs.scipy.org/doc/scipy/reference/generated/scipy.optimize.minimize.html)_\n",
    "* _['SPSA'](https://www.jhuapl.edu/SPSA/)_\n",
    "* _['SLSQP'](https://docs.scipy.org/doc/scipy/reference/generated/scipy.optimize.minimize.html)_\n",
    "\n",
    "For this tutorial we will be using L_BFGS_B"
   ]
  },
  {
   "cell_type": "code",
   "execution_count": null,
   "metadata": {},
   "outputs": [],
   "source": [
    "\n",
    "from qiskit.algorithms.optimizers import COBYLA, L_BFGS_B, SPSA, SLSQP\n",
    "\n",
    "optimizer_type = 'L_BFGS_B'\n",
    "\n",
    "# You may want to tune the parameters \n",
    "# of each optimizer, here the defaults are used\n",
    "if optimizer_type == 'COBYLA':\n",
    "    optimizer = COBYLA(maxiter=500)\n",
    "elif optimizer_type == 'L_BFGS_B':\n",
    "    optimizer = L_BFGS_B(maxfun=500)\n",
    "elif optimizer_type == 'SPSA':\n",
    "    optimizer = SPSA(maxiter=500)\n",
    "elif optimizer_type == 'SLSQP':\n",
    "    optimizer = SLSQP(maxiter=500)"
   ]
  },
  {
   "cell_type": "markdown",
   "metadata": {},
   "source": [
    "# Solving the Ground State Energy\n",
    "\n",
    "We call the function `GroundStateEigensolver` which requires inputs:<br>\n",
    "* converter\n",
    "    - Which is the problem mapped and translated in the correct formalism\n",
    "* solver\n",
    "    - The engine which will simulate or coordinate the quantum computation of the quantum circuit generated by the ansatzs and qubit converter\n",
    "    * NumPyMinimumEigensolverFactory()\n",
    "    * NumPyMinimumEigensolver()\n",
    "    * QasmSimulatorPy()\n",
    "    * IBMQ_Backends\n",
    "        - Simulators\n",
    "        * ibmq_qasm_simulator\n",
    "        * simulator_statevector\n",
    "        * simulator_stabilizer\n",
    "        -Systems\n",
    "        * ibmq_manila\n",
    "        * ibmq_santiago\n",
    "        * 1bmq_16_melbourne"
   ]
  },
  {
   "cell_type": "markdown",
   "metadata": {},
   "source": [
    "# Classical solution\n",
    "\n",
    "We can solve the problem numerically within the Numpy. This algorithm exactly diagonalizes the Hamiltonian."
   ]
  },
  {
   "cell_type": "code",
   "execution_count": null,
   "metadata": {},
   "outputs": [],
   "source": [
    "from qiskit_nature.algorithms.ground_state_solvers.minimum_eigensolver_factories import NumPyMinimumEigensolverFactory\n",
    "from qiskit_nature.algorithms.ground_state_solvers import GroundStateEigensolver\n",
    "import numpy as np \n",
    "\n",
    "def exact_diagonalizer(problem, converter):\n",
    "    solver = NumPyMinimumEigensolverFactory()\n",
    "    calc = GroundStateEigensolver(converter, solver)\n",
    "    result = calc.solve(problem)\n",
    "    return result\n",
    "\n",
    "result_exact = exact_diagonalizer(es_problem, converter)\n",
    "exact_energy = np.real(result_exact.eigenenergies[0])\n",
    "print(\"Exact electronic energy\", exact_energy)\n",
    "print(result_exact)"
   ]
  },
  {
   "cell_type": "markdown",
   "metadata": {},
   "source": [
    "# VQE and initial parameters for the ansatz\n",
    "\n",
    "Once we have define the ansatz, optimizer, the initial state, and backend we are ready to run our VQE algorithm."
   ]
  },
  {
   "cell_type": "code",
   "execution_count": null,
   "metadata": {},
   "outputs": [],
   "source": [
    "\n",
    "from qiskit.algorithms import VQE\n",
    "from IPython.display import display, clear_output\n",
    "\n",
    "# Print and save the data in lists\n",
    "def callback(eval_count, parameters, mean, std):  \n",
    "    # Overwrites the same line when printing\n",
    "    display(\"Evaluation: {}, Energy: {}, Std: {}\".format(eval_count, mean, std))\n",
    "    clear_output(wait=True)\n",
    "    counts.append(eval_count)\n",
    "    values.append(mean)\n",
    "    params.append(parameters)\n",
    "    deviation.append(std)\n",
    "\n",
    "counts = []\n",
    "values = []\n",
    "params = []\n",
    "deviation = []\n",
    "\n",
    "# Set initial parameters of the ansatz\n",
    "# We choose a fixed small displacement \n",
    "# So all participants start from similar starting point\n",
    "try:\n",
    "    initial_point = [0.01] * len(ansatz.ordered_parameters)\n",
    "except:\n",
    "    initial_point = [0.01] * ansatz.num_parameters\n",
    "\n",
    "algorithm = VQE(ansatz,\n",
    "                optimizer=optimizer,\n",
    "                quantum_instance=backend,\n",
    "                callback=callback,\n",
    "                initial_point=initial_point)\n",
    "\n",
    "result = algorithm.compute_minimum_eigenvalue(qubit_op)\n",
    "print(result)\n"
   ]
  },
  {
   "cell_type": "markdown",
   "metadata": {},
   "source": [
    "# Sampling PES Symmetric dissociation profiles of Hydrogen from the H2O molecule\n",
    "\n",
    "For this calculation , we wil repeat the previously explained tutorial.\n",
    "We will make use of the `pes_samplers` library\n"
   ]
  },
  {
   "cell_type": "markdown",
   "metadata": {},
   "source": [
    "Lets first re-define the H2O molecule and include two bonds as degree of freedom <br>\n"
   ]
  },
  {
   "cell_type": "code",
   "execution_count": null,
   "metadata": {},
   "outputs": [],
   "source": [
    "#Generate the Molecule with the bond streching degree of freedom\n",
    "from functools import partial\n",
    "from qiskit_nature.algorithms.pes_samplers import BOPESSampler, Extrapolator\n",
    "\n",
    "#We will define the OH as a degree of freedom \n",
    "bond_d1 = partial(Molecule.absolute_stretching, atom_pair=(1, 0))\n",
    "bond_d2 = partial(Molecule.absolute_stretching, atom_pair=(2, 0))\n",
    "\n",
    "#Creation of H2O Molecule object bond stretching\n",
    "mol_H2O_BS = Molecule(geometry=opt_sto3g.atom,charge=0, multiplicity=1,\n",
    "                       degrees_of_freedom=[bond_d1,bond_d2])\n",
    "\n",
    "#pass molecule to PSYCF driver\n",
    "driver_BS= PySCFDriver(molecule=mol_H2O_BS)\n",
    "\n",
    "#Running PySCF it prints convergence True or False (Important), Total Energy , Electronic dipole and Total dipole\n",
    "q_molecule = driver_BS.run()\n",
    "#(2,3)\n",
    "active_space_trafo_2_3 = ActiveSpaceTransformer(num_electrons=2,num_molecular_orbitals=3)\n",
    "\n",
    "\n",
    "#Defining the electronic structure problem \n",
    "es_problem = ElectronicStructureProblem(driver_BS, q_molecule_transformers=[active_space_trafo_2_3])\n"
   ]
  },
  {
   "cell_type": "code",
   "execution_count": null,
   "metadata": {},
   "outputs": [],
   "source": [
    "# qiskit\n",
    "from qiskit.utils import QuantumInstance\n",
    "from qiskit import Aer\n",
    "\n",
    "# Generate the second-quantized operators\n",
    "second_q_ops = es_problem.second_q_ops()\n",
    "\n",
    "# Hamiltonian\n",
    "main_op = second_q_ops[0]"
   ]
  },
  {
   "cell_type": "code",
   "execution_count": null,
   "metadata": {},
   "outputs": [],
   "source": [
    "# Setup the mapper and qubit converter\n",
    "mapper_type = 'BravyiKitaevMapper'\n",
    "\n",
    "\n",
    "if mapper_type == 'JordanWignerMapper':\n",
    "    mapper = JordanWignerMapper()\n",
    "elif mapper_type == 'BravyiKitaevMapper':\n",
    "    mapper = BravyiKitaevMapper()\n",
    "\n",
    "\n",
    "qubit_converter = QubitConverter(mapper=mapper, two_qubit_reduction=False)\n",
    "\n",
    "# The fermionic operators are mapped to qubit operators\n",
    "num_particles = (es_problem.molecule_data_transformed.num_alpha,\n",
    "             es_problem.molecule_data_transformed.num_beta)\n",
    "qubit_op = qubit_converter.convert(main_op, num_particles=num_particles)"
   ]
  },
  {
   "cell_type": "code",
   "execution_count": null,
   "metadata": {},
   "outputs": [],
   "source": [
    "num_particles = (es_problem.molecule_data_transformed.num_alpha,\n",
    "             es_problem.molecule_data_transformed.num_beta)\n",
    "num_spin_orbitals = 2 * es_problem.molecule_data_transformed.num_molecular_orbitals\n",
    "init_state = HartreeFock(num_spin_orbitals, num_particles, qubit_converter)\n",
    "print(init_state)"
   ]
  },
  {
   "cell_type": "code",
   "execution_count": null,
   "metadata": {
    "tags": [
     "outputPrepend"
    ]
   },
   "outputs": [],
   "source": [
    "# Choose the ansatz\n",
    "from qiskit.algorithms.optimizers import COBYLA, L_BFGS_B, SPSA, SLSQP, CG\n",
    "\n",
    "# Parameters for q-UCC antatze\n",
    "num_particles = (es_problem.molecule_data_transformed.num_alpha,\n",
    "             es_problem.molecule_data_transformed.num_beta)\n",
    "num_spin_orbitals = 2 * es_problem.molecule_data_transformed.num_molecular_orbitals\n",
    "ansatz = UCCSD(qubit_converter,num_particles,num_spin_orbitals,initial_state = init_state)\n",
    "\n",
    "print(ansatz)\n",
    "\n",
    "from qiskit import Aer\n",
    "backend = Aer.get_backend('statevector_simulator')\n",
    "optimizer = L_BFGS_B(maxfun=2000)\n",
    "\n"
   ]
  },
  {
   "cell_type": "code",
   "execution_count": null,
   "metadata": {},
   "outputs": [],
   "source": [
    "\n",
    "# Specify degree of freedom (points of interest)\n",
    "points = np.linspace(-0.25, 1, 8)\n",
    "results_full = {} # full dictionary of results for each condition\n",
    "results = {} # dictionary of (point,energy) results for each condition\n",
    "conditions = {False: 'no bootstrapping', True: 'bootstrapping'}"
   ]
  },
  {
   "cell_type": "code",
   "execution_count": null,
   "metadata": {},
   "outputs": [],
   "source": [
    "#try:\n",
    "#    initial_point = [0.01] * len(ansatz.ordered_parameters)\n",
    "#except:\n",
    "initial_point = [0.01] * ansatz.num_parameters\n",
    "\n",
    "\n",
    "solver= VQE(ansatz,\n",
    "                optimizer=optimizer,\n",
    "                quantum_instance=QuantumInstance(backend),\n",
    "                callback=callback,\n",
    "                initial_point=initial_point)\n",
    "me_gsc = GroundStateEigensolver(qubit_converter, solver)"
   ]
  },
  {
   "cell_type": "markdown",
   "metadata": {},
   "source": [
    "Here lets compute the PES using the class `BOPESSampler`"
   ]
  },
  {
   "cell_type": "code",
   "execution_count": null,
   "metadata": {},
   "outputs": [],
   "source": [
    "\n",
    "for value, bootstrap in conditions.items():\n",
    "    # define instance to sampler\n",
    "    bs = BOPESSampler(\n",
    "        gss=me_gsc\n",
    "        ,bootstrap=value\n",
    "        ,num_bootstrap=None\n",
    "        ,extrapolator=None)\n",
    "    # execute\n",
    "    res = bs.sample(es_problem,points)\n",
    "    results_full[f'{bootstrap}'] =  res.raw_results\n",
    "    results[f'points_{bootstrap}'] = res.points\n",
    "    results[f'energies_{bootstrap}'] = res.energies"
   ]
  },
  {
   "cell_type": "markdown",
   "metadata": {},
   "source": [
    "# Compare to classical eigensolver\n",
    "\n",
    "We can repeat the same calculation with the `NumPyMinimumEigensolver()`\n"
   ]
  },
  {
   "cell_type": "code",
   "execution_count": null,
   "metadata": {},
   "outputs": [],
   "source": [
    "# define numpy solver\n",
    "\n",
    "#All molecule\n",
    "converter_full = QubitConverter(mapper=BravyiKitaevMapper(), two_qubit_reduction=False)\n",
    "es_problem_full = ElectronicStructureProblem(driver_BS)\n",
    "solver_numpy = NumPyMinimumEigensolver()\n",
    "me_gsc_numpy = GroundStateEigensolver(converter_full, solver_numpy)\n",
    "bs_classical = BOPESSampler(\n",
    "               gss=me_gsc_numpy\n",
    "               ,bootstrap=False\n",
    "               ,num_bootstrap=None\n",
    "               ,extrapolator=None)\n",
    "# execute\n",
    "res_np = bs_classical.sample(es_problem_full, points)\n",
    "results_full['np'] =  res_np.raw_results\n",
    "results['points_np'] = res_np.points\n",
    "results['energies_np'] = res_np.energies"
   ]
  },
  {
   "cell_type": "code",
   "execution_count": null,
   "metadata": {},
   "outputs": [],
   "source": [
    "import numpy as np\n",
    "import pandas as pd\n",
    "import matplotlib.pyplot as plt\n",
    "\n",
    "fig = plt.figure()\n",
    "for value, bootstrap in conditions.items():\n",
    "    plt.plot(results[f'points_{bootstrap}'], results[f'energies_{bootstrap}'], label = f'{bootstrap}')\n",
    "plt.plot(results['points_np'], results['energies_np'], label = 'numpy')\n",
    "plt.legend()\n",
    "plt.title('Dissociation profile')\n",
    "plt.xlabel('Interatomic distance')\n",
    "plt.ylabel('Energy')"
   ]
  },
  {
   "cell_type": "markdown",
   "metadata": {},
   "source": [
    "We can use PySCF to compute the FCI and compare with our previous calculations"
   ]
  },
  {
   "cell_type": "code",
   "execution_count": null,
   "metadata": {},
   "outputs": [],
   "source": [
    "#Full CI\n",
    "import pyscf\n",
    "from pyscf import fci\n",
    "\n",
    "isolver = pyscf.fci.FCI(opt_sto3g, mf_opt_sto3g.mo_coeff)"
   ]
  },
  {
   "cell_type": "code",
   "execution_count": null,
   "metadata": {},
   "outputs": [],
   "source": [
    "#Genera the perturbations points to apply\n",
    "points = np.linspace(-0.25, 1, 8)\n",
    "FCI = []"
   ]
  },
  {
   "cell_type": "code",
   "execution_count": null,
   "metadata": {},
   "outputs": [],
   "source": [
    "opt_sto3g.fromfile(\"opt_sto3g.xyz\") #Read the original structure\n",
    "opt_sto3g.build() # Update the GTO object from PySCF\n",
    "for i in points: #Loop to apply all pertubations\n",
    "    mol_H2O_BS.perturbations = [i,i] \n",
    "    temp = mol_H2O_BS.geometry\n",
    "    opt_sto3g.atom = temp # Save the geometry with the perturbation \n",
    "    opt_sto3g.build() #Update the geometry\n",
    "    mf_opt_sto3g = scf.RHF(opt_sto3g) #Run a RHF calculation\n",
    "    mf_opt_sto3g.kernel()\n",
    "    isolver = pyscf.fci.FCI(opt_sto3g, mf_opt_sto3g.mo_coeff) #Run a FCI calculation\n",
    "    isolver.kernel()\n",
    "    FCI.append(isolver.e_tot)"
   ]
  },
  {
   "cell_type": "code",
   "execution_count": null,
   "metadata": {},
   "outputs": [],
   "source": [
    "#Plot your FCI results along with your previous calculations\n",
    "import numpy as np\n",
    "import pandas as pd\n",
    "import matplotlib.pyplot as plt\n",
    "\n",
    "fig = plt.figure()\n",
    "for value, bootstrap in conditions.items():\n",
    "    plt.plot(results[f'points_{bootstrap}'], results[f'energies_{bootstrap}'], label = f'{bootstrap}')\n",
    "plt.plot(results['points_np'], results['energies_np'], label = 'numpy')\n",
    "plt.plot(results['points_np'], FCI , label = 'FCI')\n",
    "plt.legend()\n",
    "plt.title('Dissociation profile')\n",
    "plt.xlabel('Interatomic distance')\n",
    "plt.ylabel('Energy')"
   ]
  },
  {
   "cell_type": "code",
   "execution_count": null,
   "metadata": {},
   "outputs": [],
   "source": [
    "#631 Basis set\n",
    "#Creation of H2O Molecule object bond stretching\n",
    "mol_H2O_631 = Molecule(geometry=opt_631.atom,charge=0, multiplicity=1,\n",
    "                       degrees_of_freedom=[bond_d1,bond_d2])\n",
    "\n",
    "#pass molecule to PSYCF driver\n",
    "driver_631= PySCFDriver(molecule=mol_H2O_BS, basis=opt_631.basis)\n",
    "\n",
    "#Running PySCF it prints convergence True or False (Important), Total Energy , Electronic dipole and Total dipole\n",
    "q_molecule = driver_631.run()\n",
    "\n",
    "#(2,3)\n",
    "active_space = ActiveSpaceTransformer(num_electrons=4,num_molecular_orbitals=5)\n",
    "\n",
    "#Defining the electronic structure problem \n",
    "problem_631 = ElectronicStructureProblem(driver_631, q_molecule_transformers=[active_space])\n",
    "\n"
   ]
  },
  {
   "cell_type": "markdown",
   "metadata": {},
   "source": [
    "Repeat the tutorial using a pople basis set"
   ]
  },
  {
   "cell_type": "code",
   "execution_count": null,
   "metadata": {},
   "outputs": [],
   "source": [
    "#Generate the second-quantized operators\n",
    "second_q_ops_631 = problem_631.second_q_ops()\n",
    "\n",
    "#Hamiltonian\n",
    "main_op = second_q_ops_631[0]\n",
    "\n",
    "converter = QubitConverter(mapper=BravyiKitaevMapper(), two_qubit_reduction=False)\n",
    "\n",
    "#The fermionic operators are mapped to qubit operators\n",
    "num_particles = (problem_631.molecule_data_transformed.num_alpha,\n",
    "             problem_631.molecule_data_transformed.num_beta)\n",
    "qubit_op = converter.convert(main_op, num_particles=num_particles)"
   ]
  },
  {
   "cell_type": "code",
   "execution_count": null,
   "metadata": {},
   "outputs": [],
   "source": [
    "num_particles = (problem_631.molecule_data_transformed.num_alpha,\n",
    "             problem_631.molecule_data_transformed.num_beta)\n",
    "num_spin_orbitals = 2 * problem_631.molecule_data_transformed.num_molecular_orbitals\n",
    "init_state = HartreeFock(num_spin_orbitals, num_particles, converter)\n",
    "print(init_state)"
   ]
  },
  {
   "cell_type": "code",
   "execution_count": null,
   "metadata": {
    "tags": [
     "outputPrepend"
    ]
   },
   "outputs": [],
   "source": [
    "\n",
    "# Parameters for q-UCC antatze\n",
    "num_particles = (problem_631.molecule_data_transformed.num_alpha,\n",
    "             problem_631.molecule_data_transformed.num_beta)\n",
    "num_spin_orbitals = 2 * problem_631.molecule_data_transformed.num_molecular_orbitals\n",
    "\n",
    "ansatz = UCCSD(converter,num_particles,num_spin_orbitals,initial_state = init_state)\n",
    "\n",
    "print(ansatz)\n",
    "\n",
    "from qiskit import Aer\n",
    "backend = Aer.get_backend('statevector_simulator')\n",
    "optimizer = L_BFGS_B(maxfun=2000)"
   ]
  },
  {
   "cell_type": "code",
   "execution_count": null,
   "metadata": {},
   "outputs": [],
   "source": [
    "#Set initial parameters of the ansatz\n",
    "#We choose a fixed small displacement \n",
    "#So all participants start from similar starting point\n",
    "try:\n",
    "    initial_point = [0.001] * len(ansatz.ordered_parameters)\n",
    "except:\n",
    "    initial_point = [0.001] * ansatz.num_parameters\n",
    "    \n",
    "solver= VQE(ansatz,\n",
    "                optimizer=optimizer,\n",
    "                quantum_instance=QuantumInstance(backend),\n",
    "                callback=callback,\n",
    "                initial_point=initial_point)\n",
    "me_gsc = GroundStateEigensolver(qubit_converter, solver)"
   ]
  },
  {
   "cell_type": "code",
   "execution_count": null,
   "metadata": {},
   "outputs": [],
   "source": [
    "for value, bootstrap in conditions.items():\n",
    "    # define instance to sampler\n",
    "    bs = BOPESSampler(\n",
    "        gss=me_gsc\n",
    "        ,bootstrap=value\n",
    "        ,num_bootstrap=None\n",
    "        ,extrapolator=None)\n",
    "    # execute\n",
    "    res = bs.sample(problem_631,points)\n",
    "    results_full[f'{bootstrap}'] =  res.raw_results\n",
    "    results[f'points_{bootstrap}'] = res.points\n",
    "    results[f'energies_{bootstrap}'] = res.energies"
   ]
  }
 ],
 "metadata": {
  "kernelspec": {
   "display_name": "Python 3",
   "language": "python",
   "name": "python3"
  },
  "language_info": {
   "codemirror_mode": {
    "name": "ipython",
    "version": 3
   },
   "file_extension": ".py",
   "mimetype": "text/x-python",
   "name": "python",
   "nbconvert_exporter": "python",
   "pygments_lexer": "ipython3",
   "version": "3.9.5"
  }
 },
 "nbformat": 4,
 "nbformat_minor": 4
}