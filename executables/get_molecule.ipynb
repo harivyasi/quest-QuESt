{
 "cells": [
  {
   "cell_type": "markdown",
   "id": "5b454046",
   "metadata": {},
   "source": [
    "# Get Molecule"
   ]
  },
  {
   "cell_type": "code",
   "execution_count": 30,
   "id": "b0ab1492",
   "metadata": {},
   "outputs": [],
   "source": [
    "import ipywidgets as widgets \n",
    "import pathlib\n",
    "import ipywidgets as widgets"
   ]
  },
  {
   "cell_type": "code",
   "execution_count": 31,
   "id": "0ea41060",
   "metadata": {},
   "outputs": [],
   "source": [
    "molecule_file = \"molecule.mol\" #  file title to look for input\n",
    "optimized_geometry = \"optimized_geometry.xyz\" # file title to save the ouput"
   ]
  },
  {
   "cell_type": "code",
   "execution_count": 33,
   "id": "027c7cdb",
   "metadata": {},
   "outputs": [],
   "source": [
    "with open('try','w') as f:\n",
    "    f.write('uuid = 1716dd45-1cfdeea7e6aa5e9fc4bd8532')"
   ]
  },
  {
   "cell_type": "code",
   "execution_count": null,
   "id": "c4bac9cf",
   "metadata": {},
   "outputs": [],
   "source": []
  }
 ],
 "metadata": {
  "kernelspec": {
   "display_name": "Python 3",
   "language": "python",
   "name": "python3"
  },
  "language_info": {
   "codemirror_mode": {
    "name": "ipython",
    "version": 3
   },
   "file_extension": ".py",
   "mimetype": "text/x-python",
   "name": "python",
   "nbconvert_exporter": "python",
   "pygments_lexer": "ipython3",
   "version": "3.9.5"
  }
 },
 "nbformat": 4,
 "nbformat_minor": 5
}
